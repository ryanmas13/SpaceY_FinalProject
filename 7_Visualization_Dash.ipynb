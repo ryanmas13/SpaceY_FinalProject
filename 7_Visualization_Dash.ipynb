{
 "cells": [
  {
   "cell_type": "markdown",
   "metadata": {},
   "source": [
    "Installing Dash and other Python packages"
   ]
  },
  {
   "cell_type": "code",
   "execution_count": 1,
   "metadata": {},
   "outputs": [
    {
     "name": "stdout",
     "output_type": "stream",
     "text": [
      "Requirement already satisfied: wget in c:\\users\\ryanm\\appdata\\local\\programs\\python\\python312\\lib\\site-packages (3.2)\n",
      "Note: you may need to restart the kernel to use updated packages.\n",
      "Requirement already satisfied: pandas in c:\\users\\ryanm\\appdata\\local\\programs\\python\\python312\\lib\\site-packages (2.2.3)\n",
      "Requirement already satisfied: numpy>=1.26.0 in c:\\users\\ryanm\\appdata\\local\\programs\\python\\python312\\lib\\site-packages (from pandas) (2.1.1)\n",
      "Requirement already satisfied: python-dateutil>=2.8.2 in c:\\users\\ryanm\\appdata\\roaming\\python\\python312\\site-packages (from pandas) (2.9.0.post0)\n",
      "Requirement already satisfied: pytz>=2020.1 in c:\\users\\ryanm\\appdata\\local\\programs\\python\\python312\\lib\\site-packages (from pandas) (2024.2)\n",
      "Requirement already satisfied: tzdata>=2022.7 in c:\\users\\ryanm\\appdata\\local\\programs\\python\\python312\\lib\\site-packages (from pandas) (2024.1)\n",
      "Requirement already satisfied: six>=1.5 in c:\\users\\ryanm\\appdata\\roaming\\python\\python312\\site-packages (from python-dateutil>=2.8.2->pandas) (1.16.0)\n",
      "Note: you may need to restart the kernel to use updated packages.\n",
      "Requirement already satisfied: dash in c:\\users\\ryanm\\appdata\\local\\programs\\python\\python312\\lib\\site-packages (2.18.1)\n",
      "Requirement already satisfied: Flask<3.1,>=1.0.4 in c:\\users\\ryanm\\appdata\\local\\programs\\python\\python312\\lib\\site-packages (from dash) (3.0.3)\n",
      "Requirement already satisfied: Werkzeug<3.1 in c:\\users\\ryanm\\appdata\\local\\programs\\python\\python312\\lib\\site-packages (from dash) (3.0.4)\n",
      "Requirement already satisfied: plotly>=5.0.0 in c:\\users\\ryanm\\appdata\\local\\programs\\python\\python312\\lib\\site-packages (from dash) (5.24.1)\n",
      "Requirement already satisfied: dash-html-components==2.0.0 in c:\\users\\ryanm\\appdata\\local\\programs\\python\\python312\\lib\\site-packages (from dash) (2.0.0)\n",
      "Requirement already satisfied: dash-core-components==2.0.0 in c:\\users\\ryanm\\appdata\\local\\programs\\python\\python312\\lib\\site-packages (from dash) (2.0.0)\n",
      "Requirement already satisfied: dash-table==5.0.0 in c:\\users\\ryanm\\appdata\\local\\programs\\python\\python312\\lib\\site-packages (from dash) (5.0.0)\n",
      "Requirement already satisfied: importlib-metadata in c:\\users\\ryanm\\appdata\\local\\programs\\python\\python312\\lib\\site-packages (from dash) (8.5.0)\n",
      "Requirement already satisfied: typing-extensions>=4.1.1 in c:\\users\\ryanm\\appdata\\local\\programs\\python\\python312\\lib\\site-packages (from dash) (4.12.2)\n",
      "Requirement already satisfied: requests in c:\\users\\ryanm\\appdata\\local\\programs\\python\\python312\\lib\\site-packages (from dash) (2.32.3)\n",
      "Requirement already satisfied: retrying in c:\\users\\ryanm\\appdata\\local\\programs\\python\\python312\\lib\\site-packages (from dash) (1.3.4)\n",
      "Requirement already satisfied: nest-asyncio in c:\\users\\ryanm\\appdata\\roaming\\python\\python312\\site-packages (from dash) (1.6.0)\n",
      "Requirement already satisfied: setuptools in c:\\users\\ryanm\\appdata\\local\\programs\\python\\python312\\lib\\site-packages (from dash) (75.1.0)\n",
      "Requirement already satisfied: Jinja2>=3.1.2 in c:\\users\\ryanm\\appdata\\local\\programs\\python\\python312\\lib\\site-packages (from Flask<3.1,>=1.0.4->dash) (3.1.4)\n",
      "Requirement already satisfied: itsdangerous>=2.1.2 in c:\\users\\ryanm\\appdata\\local\\programs\\python\\python312\\lib\\site-packages (from Flask<3.1,>=1.0.4->dash) (2.2.0)\n",
      "Requirement already satisfied: click>=8.1.3 in c:\\users\\ryanm\\appdata\\local\\programs\\python\\python312\\lib\\site-packages (from Flask<3.1,>=1.0.4->dash) (8.1.7)\n",
      "Requirement already satisfied: blinker>=1.6.2 in c:\\users\\ryanm\\appdata\\local\\programs\\python\\python312\\lib\\site-packages (from Flask<3.1,>=1.0.4->dash) (1.8.2)\n",
      "Requirement already satisfied: tenacity>=6.2.0 in c:\\users\\ryanm\\appdata\\local\\programs\\python\\python312\\lib\\site-packages (from plotly>=5.0.0->dash) (9.0.0)\n",
      "Requirement already satisfied: packaging in c:\\users\\ryanm\\appdata\\roaming\\python\\python312\\site-packages (from plotly>=5.0.0->dash) (24.1)\n",
      "Requirement already satisfied: MarkupSafe>=2.1.1 in c:\\users\\ryanm\\appdata\\local\\programs\\python\\python312\\lib\\site-packages (from Werkzeug<3.1->dash) (2.1.5)\n",
      "Requirement already satisfied: zipp>=3.20 in c:\\users\\ryanm\\appdata\\local\\programs\\python\\python312\\lib\\site-packages (from importlib-metadata->dash) (3.20.2)\n",
      "Requirement already satisfied: charset-normalizer<4,>=2 in c:\\users\\ryanm\\appdata\\local\\programs\\python\\python312\\lib\\site-packages (from requests->dash) (3.3.2)\n",
      "Requirement already satisfied: idna<4,>=2.5 in c:\\users\\ryanm\\appdata\\local\\programs\\python\\python312\\lib\\site-packages (from requests->dash) (3.10)\n",
      "Requirement already satisfied: urllib3<3,>=1.21.1 in c:\\users\\ryanm\\appdata\\local\\programs\\python\\python312\\lib\\site-packages (from requests->dash) (2.2.3)\n",
      "Requirement already satisfied: certifi>=2017.4.17 in c:\\users\\ryanm\\appdata\\local\\programs\\python\\python312\\lib\\site-packages (from requests->dash) (2024.8.30)\n",
      "Requirement already satisfied: six>=1.7.0 in c:\\users\\ryanm\\appdata\\roaming\\python\\python312\\site-packages (from retrying->dash) (1.16.0)\n",
      "Requirement already satisfied: colorama in c:\\users\\ryanm\\appdata\\roaming\\python\\python312\\site-packages (from click>=8.1.3->Flask<3.1,>=1.0.4->dash) (0.4.6)\n",
      "Note: you may need to restart the kernel to use updated packages.\n"
     ]
    }
   ],
   "source": [
    "%pip install wget\n",
    "%pip install pandas\n",
    "%pip install dash\n"
   ]
  },
  {
   "cell_type": "code",
   "execution_count": 2,
   "metadata": {},
   "outputs": [],
   "source": [
    "# Import required libraries\n",
    "import pandas as pd\n",
    "import dash\n",
    "from dash import html\n",
    "from dash import dcc\n",
    "from dash.dependencies import Input, Output\n",
    "import plotly.express as px\n",
    "import numpy as np"
   ]
  },
  {
   "cell_type": "code",
   "execution_count": 3,
   "metadata": {},
   "outputs": [],
   "source": [
    "# Read the airline data into pandas dataframe\n",
    "spacex_df = pd.read_csv(\"spacex_launch_dash.csv\")\n",
    "max_payload = spacex_df['Payload Mass (kg)'].max()\n",
    "min_payload = spacex_df['Payload Mass (kg)'].min()\n"
   ]
  },
  {
   "cell_type": "code",
   "execution_count": 4,
   "metadata": {},
   "outputs": [],
   "source": [
    "#Create the options for the dropdown list\n",
    "options = spacex_df[\"Launch Site\"].unique()\n",
    "options = np.append(options, \"All Sites\")"
   ]
  },
  {
   "cell_type": "code",
   "execution_count": 5,
   "metadata": {},
   "outputs": [],
   "source": [
    "# Create a dash application\n",
    "app = dash.Dash(__name__)\n",
    "# Set the title of the dashboard\n",
    "app.title = \"SpaceX Launch Records Analytics\""
   ]
  },
  {
   "cell_type": "code",
   "execution_count": 6,
   "metadata": {},
   "outputs": [],
   "source": [
    "# Create an app layout\n",
    "app.layout = html.Div(children=[\n",
    "       html.H1('SpaceX Launch Records Dashboard',\n",
    "              style={'textAlign': 'center', 'color': '#503D36','font-size': 40}\n",
    "       ),\n",
    "       # TASK 1: Add a dropdown list to enable Launch Site selection\n",
    "       # The default select value is for ALL sites\n",
    "       # dcc.Dropdown(id='site-dropdown',...)\n",
    "       html.Div(\n",
    "              dcc.Dropdown(\n",
    "                     id=\"site-dropdown\",\n",
    "                     options= options,\n",
    "                     value = \"All Sites\",\n",
    "                     placeholder = \"Select a Launch Site here\",\n",
    "                     searchable = True\n",
    "              )\n",
    "       ),\n",
    "       html.Br(),\n",
    "\n",
    "       # TASK 2: Add a pie chart to show the total successful launches count for all sites\n",
    "       # If a specific launch site was selected, show the Success vs. Failed counts for the site\n",
    "       html.Div(dcc.Graph(id='success-pie-chart')),\n",
    "       html.Br(),\n",
    "       \n",
    "       html.P(\"Payload range (Kg):\"),\n",
    "\n",
    "       # TASK 3: Add a slider to select payload range\n",
    "       #dcc.RangeSlider(id='payload-slider',...)\n",
    "       html.Div(\n",
    "              dcc.RangeSlider(\n",
    "                     id=\"payload-slider\",\n",
    "                     min=0, max=10000, step=1000,\n",
    "                     #marks={0: '0', 100: '100'},\n",
    "                     value=[min_payload, max_payload]\n",
    "              )\n",
    "       ),\n",
    "\n",
    "       # TASK 4: Add a scatter chart to show the correlation between payload and launch success\n",
    "       html.Div(\n",
    "              dcc.Graph(\n",
    "                     id='success-payload-scatter-chart'\n",
    "                     )\n",
    "              ),\n",
    "]\n",
    ")"
   ]
  },
  {
   "cell_type": "code",
   "execution_count": 7,
   "metadata": {},
   "outputs": [],
   "source": [
    "# TASK 2:\n",
    "# Add a callback function for `site-dropdown` as input, `success-pie-chart` as output\n",
    "@app.callback(\n",
    "    Output(component_id='success-pie-chart', component_property='figure'),\n",
    "    Input(component_id='site-dropdown', component_property='value')\n",
    ")\n",
    "\n",
    "def updatepiechart(selected_location):\n",
    "    df_pie = spacex_df\n",
    "    #df_pie_selected = df_pie.groupby(\"Launch Site\")[\"class\"].sum().reset_index\n",
    "    if selected_location == \"All Sites\":\n",
    "        fig = px.pie(\n",
    "            df_pie,\n",
    "            names = \"Launch Site\",\n",
    "            values = \"class\",\n",
    "            title=\"Total Success Launches By Site\"\n",
    "        )\n",
    "    else:\n",
    "        df_pie = spacex_df[spacex_df[\"Launch Site\"]==selected_location]\n",
    "        df_pie = df_pie[\"class\"].value_counts().reset_index()\n",
    "        df_pie.columns = [\"class\",\"count\"]\n",
    "        fig = px.pie(\n",
    "            df_pie, \n",
    "            names= \"class\",\n",
    "            values=\"count\",\n",
    "            title=\"Total Success Launches for Site \" + selected_location\n",
    "        )\n",
    "    \n",
    "    fig.update_layout()\n",
    "    return fig"
   ]
  },
  {
   "cell_type": "code",
   "execution_count": 8,
   "metadata": {},
   "outputs": [],
   "source": [
    "# TASK 4:\n",
    "# Add a callback function for `site-dropdown` and `payload-slider` as inputs, `success-payload-scatter-chart` as output\n",
    "@app.callback(\n",
    "    Output(component_id=\"success-payload-scatter-chart\", component_property=\"figure\"),\n",
    "    [Input(component_id=\"payload-slider\", component_property=\"value\"),\n",
    "    Input(component_id=\"site-dropdown\", component_property=\"value\")]\n",
    ")\n",
    "\n",
    "def updateScatter(selected_payload, selected_location):\n",
    "    df_scatter = spacex_df[(spacex_df[\"Payload Mass (kg)\"]<=selected_payload[1]) & (spacex_df[\"Payload Mass (kg)\"]>=selected_payload[0])]\n",
    "    if selected_location == \"All Sites\":\n",
    "        fig = px.scatter(\n",
    "            df_scatter,\n",
    "            x=\"Payload Mass (kg)\",\n",
    "            y = \"class\",\n",
    "            color = \"Booster Version Category\",\n",
    "            title=\"Correlation between Payload and Success for all sites\"\n",
    "        )\n",
    "    else:\n",
    "        df_scatter = df_scatter[df_scatter[\"Launch Site\"]==selected_location]\n",
    "        fig = px.scatter(\n",
    "            df_scatter,\n",
    "            x=\"Payload Mass (kg)\",\n",
    "            y= \"class\",\n",
    "            color = \"Booster Version Category\", \n",
    "            title=\"Correlation from Payload and Success for \"+selected_location           \n",
    "        )\n",
    "    fig.update_layout()\n",
    "    return fig"
   ]
  },
  {
   "cell_type": "code",
   "execution_count": 9,
   "metadata": {},
   "outputs": [
    {
     "data": {
      "text/html": [
       "\n",
       "        <iframe\n",
       "            width=\"100%\"\n",
       "            height=\"650\"\n",
       "            src=\"http://127.0.0.1:8050/\"\n",
       "            frameborder=\"0\"\n",
       "            allowfullscreen\n",
       "            \n",
       "        ></iframe>\n",
       "        "
      ],
      "text/plain": [
       "<IPython.lib.display.IFrame at 0x15dde038f20>"
      ]
     },
     "metadata": {},
     "output_type": "display_data"
    }
   ],
   "source": [
    "# Run the app\n",
    "if __name__ == '__main__':\n",
    "    app.run_server(debug=True)"
   ]
  }
 ],
 "metadata": {
  "kernelspec": {
   "display_name": "Python 3",
   "language": "python",
   "name": "python3"
  },
  "language_info": {
   "codemirror_mode": {
    "name": "ipython",
    "version": 3
   },
   "file_extension": ".py",
   "mimetype": "text/x-python",
   "name": "python",
   "nbconvert_exporter": "python",
   "pygments_lexer": "ipython3",
   "version": "3.12.6"
  }
 },
 "nbformat": 4,
 "nbformat_minor": 2
}
